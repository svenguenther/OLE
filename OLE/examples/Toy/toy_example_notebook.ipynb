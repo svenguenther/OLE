{
 "cells": [
  {
   "cell_type": "markdown",
   "metadata": {},
   "source": [
    "This is a notebook version of the toy example for the NUTS (no u-turn) sampler. It does exactly the same, but in notebook form."
   ]
  },
  {
   "cell_type": "code",
   "execution_count": 1,
   "metadata": {},
   "outputs": [],
   "source": [
    "from OLE.theory import Theory\n",
    "from OLE.likelihood import Likelihood\n",
    "import jax.numpy as jnp\n",
    "import matplotlib.pyplot as plt\n",
    "\n",
    "import numpy as np\n",
    "try:\n",
    "    import corner\n",
    "    corner_available = True\n",
    "except:\n",
    "    corner_available = False"
   ]
  },
  {
   "cell_type": "markdown",
   "metadata": {},
   "source": [
    "First we define our \"theory code\", here a simple function, computing a y-vector and a y-scalar from the input parameters x1, x2, and x3\n",
    "\n",
    "In a real analysis, the role of the theory code would be played by e.g. a python wrapper for CLASS or CAMB."
   ]
  },
  {
   "cell_type": "code",
   "execution_count": 2,
   "metadata": {},
   "outputs": [],
   "source": [
    "class my_theory(Theory):\n",
    "\n",
    "    def initialize(self, **kwargs):\n",
    "        super().initialize(**kwargs)   \n",
    "\n",
    "        # input parameters of the theory\n",
    "        self.requirements = ['x1', 'x2', 'x3']\n",
    "\n",
    "    def compute(self, state):\n",
    "        # Compute the observable for the given parameters.\n",
    "\n",
    "        # parameters x1,x2,x3\n",
    "        # observables y_array, y_scalar\n",
    "        self.parameters = ['x1', 'x2', 'x3']\n",
    "\n",
    "        state['quantities']['y_array'] = jnp.array([0.3*jnp.sin(2.*state['parameters']['x1'][0])+state['parameters']['x1'][0], 0.5*state['parameters']['x3'][0]+state['parameters']['x2'][0], state['parameters']['x3'][0]])\n",
    "        state['quantities']['y_scalar'] = jnp.array([jnp.sum(state['quantities']['y_array'])])\n",
    "        return state"
   ]
  },
  {
   "cell_type": "markdown",
   "metadata": {},
   "source": [
    "We now define our likelihood code, used to determine the Bayesian likelihood of a given parameter realisation (in our example, x1, x2, x3).\n",
    "\n",
    "Here, it is a simple function of th quantities y_array and y_scalar, but often it would involve comparing the output of the theory code to observational data."
   ]
  },
  {
   "cell_type": "code",
   "execution_count": 3,
   "metadata": {},
   "outputs": [],
   "source": [
    "class my_likelihood(Likelihood):\n",
    "\n",
    "    def initialize(self, **kwargs):\n",
    "        super().initialize(**kwargs)  \n",
    "\n",
    "        self.requirements = {'y_array': None, 'y_scalar': None} \n",
    "    \n",
    "\n",
    "    def loglike(self, state):\n",
    "        # Compute the loglikelihood for the given parameters.\n",
    "        loglike = -10.*jnp.sum((state['quantities']['y_array'])**2) - 10.*(state['quantities']['y_scalar']-0.5)**2 - state['quantities']['y_array'][0]*state['quantities']['y_array'][1]\n",
    "        return loglike"
   ]
  },
  {
   "cell_type": "markdown",
   "metadata": {},
   "source": [
    "Now we declare the instances we require and their settings. OLE wants a dictionary of likelihoods, since this makes it easy to perform inference using multiple datasets simultaneously, e.g. a CMB+BAO analysis."
   ]
  },
  {
   "cell_type": "code",
   "execution_count": 4,
   "metadata": {},
   "outputs": [],
   "source": [
    "# First, we define an instance of our theory code, \n",
    "# and a dictionary of the settings we want to pass to it.\n",
    "# In a real analysis, this could be precision settings, or flags for\n",
    "# which parametrization to use for reionization.\n",
    "my_theory = my_theory()\n",
    "theory_settings = {}\n",
    "\n",
    "\n",
    "# Now we define our dictionary of likelihoods, again, for a likelihood\n",
    "# more advanced than our toy model, we could pass settings for this run\n",
    "my_likelihood_collection = {'toy':my_likelihood()}\n",
    "my_likelihood_collection_settings = {'toy': {}}\n",
    "\n",
    "# We also pass settings for OLE's sampler, in this case just where to\n",
    "# output the results.\n",
    "sampling_settings = {\n",
    "    'output_directory': './toy_notebook',\n",
    "}\n",
    "\n",
    "# Finally, we pass settings to the emulator part of OLE\n",
    "emulator_settings = {\n",
    "    'logfile': './toy_notebook/log.txt',\n",
    "    'min_variance_per_bin': 1e-6,\n",
    "    'cache_file': './toy_notebook/cache.pkl',\n",
    "    'dimensionality': 3,\n",
    "\n",
    "    'test_emulator': True,\n",
    "}"
   ]
  },
  {
   "cell_type": "markdown",
   "metadata": {},
   "source": [
    "We now declare our parameters, these are the ones we will draw samples for to put into the theory code. We give priors on these, as well as reference values ('mean'), expected width ('std'), and a scaling of the step size ('proposal')"
   ]
  },
  {
   "cell_type": "code",
   "execution_count": 5,
   "metadata": {},
   "outputs": [],
   "source": [
    "my_parameters = {'x1': {'prior': {'min': 0.0, 'max': 3.0, 'type': 'uniform'},\n",
    "                        'ref': {'mean': 0.2, 'std': 0.1},\n",
    "                        'proposal': 1.0,},\n",
    "                    'x2': {'prior': {'min': 0.0, 'max': 3.0, 'type': 'uniform'},\n",
    "                        'ref': {'mean': 0.2, 'std': 0.1},\n",
    "                        'proposal': 1.0,},\n",
    "                    'x3': {'prior': {'min': 0.0, 'max': 3.0, 'type': 'uniform'},\n",
    "                        'ref': {'mean': 0.2, 'std': 0.1},\n",
    "                        'proposal': 1.0,},\n",
    "                           } "
   ]
  },
  {
   "cell_type": "markdown",
   "metadata": {},
   "source": [
    "Finally, before we initialise and start sampling, we declare our instance if OLE's NUTS sampler"
   ]
  },
  {
   "cell_type": "code",
   "execution_count": 6,
   "metadata": {},
   "outputs": [
    {
     "name": "stderr",
     "output_type": "stream",
     "text": [
      "WARNING:jax._src.xla_bridge:An NVIDIA GPU may be present on this machine, but a CUDA-enabled jaxlib is not installed. Falling back to cpu.\n"
     ]
    }
   ],
   "source": [
    "# load sampler \n",
    "from OLE.sampler import NUTSSampler\n",
    "my_sampler = NUTSSampler()"
   ]
  },
  {
   "cell_type": "markdown",
   "metadata": {},
   "source": [
    "We now initialize the sampler we declared, passing it our theory, likelihood, and the various settings."
   ]
  },
  {
   "cell_type": "code",
   "execution_count": 7,
   "metadata": {},
   "outputs": [
    {
     "name": "stderr",
     "output_type": "stream",
     "text": [
      "2024-10-01 16:29:12,727 - Emulator - INFO - Emulator initialized\n",
      "INFO:Emulator:Emulator initialized\n",
      "2024-10-01 16:29:13,083 - Emulator - INFO - Create emulator for y_array\n",
      "INFO:Emulator:Create emulator for y_array\n",
      "2024-10-01 16:29:13,084 - Emulator - INFO - Create emulator for y_scalar\n",
      "INFO:Emulator:Create emulator for y_scalar\n"
     ]
    }
   ],
   "source": [
    "# initialize sampler\n",
    "my_sampler.initialize(theory=my_theory, \n",
    "                      likelihood_collection=my_likelihood_collection, \n",
    "                      parameters=my_parameters, \n",
    "                      emulator_settings=emulator_settings, \n",
    "                      likelihood_collection_settings=my_likelihood_collection_settings, \n",
    "                      theory_settings=theory_settings, \n",
    "                      sampling_settings=sampling_settings)"
   ]
  },
  {
   "cell_type": "markdown",
   "metadata": {},
   "source": [
    "Finally, with the sampler initialized, we can run our MCMC chains. For the purpose of this example, we choose a relatively modest 1000 steps. This is the most time consuming part of this example, and can take several minutes.\n",
    "\n",
    "The progress can be followed in the output."
   ]
  },
  {
   "cell_type": "code",
   "execution_count": 8,
   "metadata": {},
   "outputs": [
    {
     "name": "stderr",
     "output_type": "stream",
     "text": [
      "2024-10-01 16:33:26,072 - NUTSSampler - INFO - Current sampler call: 0\n",
      "INFO:NUTSSampler:Current sampler call: 0\n",
      "2024-10-01 16:33:26,151 - DataCache - INFO - Cache size: 2/1000\n",
      "INFO:DataCache:Cache size: 2/1000\n",
      "2024-10-01 16:33:26,179 - DataCache - INFO - Cache size: 3/1000\n",
      "INFO:DataCache:Cache size: 3/1000\n",
      "2024-10-01 16:33:27,088 - NUTSSampler - INFO - Current sampler call: 100\n",
      "INFO:NUTSSampler:Current sampler call: 100\n",
      "2024-10-01 16:33:27,342 - DataCache - INFO - Cache size: 4/1000\n",
      "INFO:DataCache:Cache size: 4/1000\n",
      "2024-10-01 16:33:27,413 - DataCache - INFO - Cache size: 5/1000\n",
      "INFO:DataCache:Cache size: 5/1000\n",
      "2024-10-01 16:33:27,614 - DataCache - INFO - Cache size: 6/1000\n",
      "INFO:DataCache:Cache size: 6/1000\n",
      "2024-10-01 16:33:27,888 - DataCache - INFO - Cache size: 7/1000\n",
      "INFO:DataCache:Cache size: 7/1000\n",
      "2024-10-01 16:33:27,975 - NUTSSampler - INFO - Current sampler call: 200\n",
      "INFO:NUTSSampler:Current sampler call: 200\n",
      "2024-10-01 16:33:28,273 - DataCache - INFO - Cache size: 7/1000\n",
      "INFO:DataCache:Cache size: 7/1000\n",
      "2024-10-01 16:33:28,455 - DataCache - INFO - Cache size: 8/1000\n",
      "INFO:DataCache:Cache size: 8/1000\n",
      "2024-10-01 16:33:28,980 - NUTSSampler - INFO - Current sampler call: 300\n",
      "INFO:NUTSSampler:Current sampler call: 300\n",
      "2024-10-01 16:33:29,271 - DataCache - INFO - Cache size: 9/1000\n",
      "INFO:DataCache:Cache size: 9/1000\n",
      "2024-10-01 16:33:29,623 - DataCache - INFO - Cache size: 10/1000\n",
      "INFO:DataCache:Cache size: 10/1000\n",
      "2024-10-01 16:33:29,908 - DataCache - INFO - Cache size: 11/1000\n",
      "INFO:DataCache:Cache size: 11/1000\n",
      "2024-10-01 16:33:29,994 - NUTSSampler - INFO - Current sampler call: 400\n",
      "INFO:NUTSSampler:Current sampler call: 400\n",
      "2024-10-01 16:33:30,498 - DataCache - INFO - Cache size: 12/1000\n",
      "INFO:DataCache:Cache size: 12/1000\n",
      "2024-10-01 16:33:30,816 - DataCache - INFO - Cache size: 13/1000\n",
      "INFO:DataCache:Cache size: 13/1000\n",
      "2024-10-01 16:33:31,035 - NUTSSampler - INFO - Current sampler call: 500\n",
      "INFO:NUTSSampler:Current sampler call: 500\n",
      "2024-10-01 16:33:31,325 - DataCache - INFO - Cache size: 14/1000\n",
      "INFO:DataCache:Cache size: 14/1000\n",
      "2024-10-01 16:33:31,460 - DataCache - INFO - Cache size: 15/1000\n",
      "INFO:DataCache:Cache size: 15/1000\n",
      "2024-10-01 16:33:31,508 - DataCache - INFO - Cache size: 16/1000\n",
      "INFO:DataCache:Cache size: 16/1000\n",
      "2024-10-01 16:33:32,160 - NUTSSampler - INFO - Current sampler call: 600\n",
      "INFO:NUTSSampler:Current sampler call: 600\n",
      "2024-10-01 16:33:32,696 - DataCache - INFO - Cache size: 17/1000\n",
      "INFO:DataCache:Cache size: 17/1000\n",
      "2024-10-01 16:33:33,209 - NUTSSampler - INFO - Current sampler call: 700\n",
      "INFO:NUTSSampler:Current sampler call: 700\n",
      "2024-10-01 16:33:33,665 - DataCache - INFO - Cache size: 18/1000\n",
      "INFO:DataCache:Cache size: 18/1000\n",
      "2024-10-01 16:33:33,703 - DataCache - INFO - Cache size: 19/1000\n",
      "INFO:DataCache:Cache size: 19/1000\n",
      "2024-10-01 16:33:33,837 - DataCache - INFO - Cache size: 20/1000\n",
      "INFO:DataCache:Cache size: 20/1000\n",
      "2024-10-01 16:33:34,130 - DataCache - INFO - Cache size: 21/1000\n",
      "INFO:DataCache:Cache size: 21/1000\n",
      "2024-10-01 16:33:34,479 - NUTSSampler - INFO - Current sampler call: 800\n",
      "INFO:NUTSSampler:Current sampler call: 800\n",
      "2024-10-01 16:33:34,602 - DataCache - INFO - Cache size: 22/1000\n",
      "INFO:DataCache:Cache size: 22/1000\n",
      "2024-10-01 16:33:34,662 - DataCache - INFO - Cache size: 23/1000\n",
      "INFO:DataCache:Cache size: 23/1000\n",
      "2024-10-01 16:33:35,093 - DataCache - INFO - Cache size: 24/1000\n",
      "INFO:DataCache:Cache size: 24/1000\n",
      "2024-10-01 16:33:35,156 - DataCache - INFO - Cache size: 25/1000\n",
      "INFO:DataCache:Cache size: 25/1000\n",
      "2024-10-01 16:33:35,626 - DataCache - INFO - Cache size: 26/1000\n",
      "INFO:DataCache:Cache size: 26/1000\n",
      "2024-10-01 16:33:35,845 - NUTSSampler - INFO - Current sampler call: 900\n",
      "INFO:NUTSSampler:Current sampler call: 900\n",
      "2024-10-01 16:33:35,939 - DataCache - INFO - Cache size: 27/1000\n",
      "INFO:DataCache:Cache size: 27/1000\n",
      "2024-10-01 16:33:36,069 - DataCache - INFO - Cache size: 28/1000\n",
      "INFO:DataCache:Cache size: 28/1000\n",
      "2024-10-01 16:33:36,177 - DataCache - INFO - Cache size: 29/1000\n",
      "INFO:DataCache:Cache size: 29/1000\n",
      "2024-10-01 16:33:36,565 - DataCache - INFO - Cache size: 30/1000\n",
      "INFO:DataCache:Cache size: 30/1000\n",
      "2024-10-01 16:33:36,721 - DataCache - INFO - Cache size: 31/1000\n",
      "INFO:DataCache:Cache size: 31/1000\n",
      "2024-10-01 16:33:36,884 - DataCache - INFO - Cache size: 32/1000\n",
      "INFO:DataCache:Cache size: 32/1000\n",
      "2024-10-01 16:33:36,920 - DataCache - INFO - Cache size: 33/1000\n",
      "INFO:DataCache:Cache size: 33/1000\n",
      "2024-10-01 16:33:37,077 - DataCache - INFO - Cache size: 34/1000\n",
      "INFO:DataCache:Cache size: 34/1000\n",
      "2024-10-01 16:33:37,159 - NUTSSampler - INFO - Current sampler call: 1000\n",
      "INFO:NUTSSampler:Current sampler call: 1000\n",
      "2024-10-01 16:33:37,168 - DataCache - INFO - Cache size: 35/1000\n",
      "INFO:DataCache:Cache size: 35/1000\n",
      "2024-10-01 16:33:37,440 - DataCache - INFO - Cache size: 36/1000\n",
      "INFO:DataCache:Cache size: 36/1000\n",
      "2024-10-01 16:33:37,725 - DataCache - INFO - Cache size: 37/1000\n",
      "INFO:DataCache:Cache size: 37/1000\n",
      "2024-10-01 16:33:37,907 - DataCache - INFO - Cache size: 38/1000\n",
      "INFO:DataCache:Cache size: 38/1000\n",
      "2024-10-01 16:33:38,031 - DataCache - INFO - Cache size: 39/1000\n",
      "INFO:DataCache:Cache size: 39/1000\n",
      "2024-10-01 16:33:38,173 - DataCache - INFO - Cache size: 40/1000\n",
      "INFO:DataCache:Cache size: 40/1000\n",
      "2024-10-01 16:33:38,326 - DataCache - INFO - Cache size: 41/1000\n",
      "INFO:DataCache:Cache size: 41/1000\n",
      "2024-10-01 16:33:38,382 - DataCache - INFO - Cache size: 42/1000\n",
      "INFO:DataCache:Cache size: 42/1000\n",
      "2024-10-01 16:33:38,676 - NUTSSampler - INFO - Current sampler call: 1100\n",
      "INFO:NUTSSampler:Current sampler call: 1100\n",
      "2024-10-01 16:33:39,084 - DataCache - INFO - Cache size: 43/1000\n",
      "INFO:DataCache:Cache size: 43/1000\n",
      "2024-10-01 16:33:39,129 - DataCache - INFO - Cache size: 44/1000\n",
      "INFO:DataCache:Cache size: 44/1000\n",
      "2024-10-01 16:33:39,278 - DataCache - INFO - Cache size: 45/1000\n",
      "INFO:DataCache:Cache size: 45/1000\n",
      "2024-10-01 16:33:39,977 - NUTSSampler - INFO - Current sampler call: 1200\n",
      "INFO:NUTSSampler:Current sampler call: 1200\n",
      "2024-10-01 16:33:40,004 - DataCache - INFO - Cache size: 46/1000\n",
      "INFO:DataCache:Cache size: 46/1000\n",
      "2024-10-01 16:33:40,300 - DataCache - INFO - Cache size: 47/1000\n",
      "INFO:DataCache:Cache size: 47/1000\n",
      "2024-10-01 16:33:40,600 - DataCache - INFO - Cache size: 48/1000\n",
      "INFO:DataCache:Cache size: 48/1000\n",
      "2024-10-01 16:33:40,743 - DataCache - INFO - Cache size: 49/1000\n",
      "INFO:DataCache:Cache size: 49/1000\n",
      "2024-10-01 16:33:41,057 - DataCache - INFO - Cache size: 50/1000\n",
      "INFO:DataCache:Cache size: 50/1000\n",
      "2024-10-01 16:33:41,353 - DataCache - INFO - Cache size: 51/1000\n",
      "INFO:DataCache:Cache size: 51/1000\n",
      "2024-10-01 16:33:41,486 - NUTSSampler - INFO - Current sampler call: 1300\n",
      "INFO:NUTSSampler:Current sampler call: 1300\n",
      "2024-10-01 16:33:42,505 - DataCache - INFO - Cache size: 52/1000\n",
      "INFO:DataCache:Cache size: 52/1000\n",
      "2024-10-01 16:33:42,732 - NUTSSampler - INFO - Current sampler call: 1400\n",
      "INFO:NUTSSampler:Current sampler call: 1400\n",
      "2024-10-01 16:33:42,751 - DataCache - INFO - Cache size: 53/1000\n",
      "INFO:DataCache:Cache size: 53/1000\n",
      "2024-10-01 16:33:42,812 - DataCache - INFO - Cache size: 54/1000\n",
      "INFO:DataCache:Cache size: 54/1000\n",
      "2024-10-01 16:33:42,861 - DataCache - INFO - Cache size: 55/1000\n",
      "INFO:DataCache:Cache size: 55/1000\n",
      "2024-10-01 16:33:43,917 - DataCache - INFO - Cache size: 56/1000\n",
      "INFO:DataCache:Cache size: 56/1000\n",
      "2024-10-01 16:33:44,067 - DataCache - INFO - Cache size: 57/1000\n",
      "INFO:DataCache:Cache size: 57/1000\n",
      "2024-10-01 16:33:44,215 - NUTSSampler - INFO - Current sampler call: 1500\n",
      "INFO:NUTSSampler:Current sampler call: 1500\n",
      "2024-10-01 16:33:44,440 - DataCache - INFO - Cache size: 58/1000\n",
      "INFO:DataCache:Cache size: 58/1000\n",
      "2024-10-01 16:33:44,514 - DataCache - INFO - Cache size: 59/1000\n",
      "INFO:DataCache:Cache size: 59/1000\n",
      "2024-10-01 16:33:45,054 - DataCache - INFO - Cache size: 60/1000\n",
      "INFO:DataCache:Cache size: 60/1000\n",
      "2024-10-01 16:33:45,185 - DataCache - INFO - Cache size: 61/1000\n",
      "INFO:DataCache:Cache size: 61/1000\n",
      "2024-10-01 16:33:45,471 - DataCache - INFO - Cache size: 62/1000\n",
      "INFO:DataCache:Cache size: 62/1000\n",
      "2024-10-01 16:33:45,611 - NUTSSampler - INFO - Current sampler call: 1600\n",
      "INFO:NUTSSampler:Current sampler call: 1600\n",
      "2024-10-01 16:33:45,902 - DataCache - INFO - Cache size: 63/1000\n",
      "INFO:DataCache:Cache size: 63/1000\n",
      "2024-10-01 16:33:46,189 - DataCache - INFO - Cache size: 64/1000\n",
      "INFO:DataCache:Cache size: 64/1000\n",
      "2024-10-01 16:33:46,376 - DataCache - INFO - Cache size: 65/1000\n",
      "INFO:DataCache:Cache size: 65/1000\n",
      "2024-10-01 16:33:46,458 - DataCache - INFO - Cache size: 66/1000\n",
      "INFO:DataCache:Cache size: 66/1000\n",
      "2024-10-01 16:33:46,623 - DataCache - INFO - Cache size: 67/1000\n",
      "INFO:DataCache:Cache size: 67/1000\n",
      "2024-10-01 16:33:47,003 - DataCache - INFO - Cache size: 68/1000\n",
      "INFO:DataCache:Cache size: 68/1000\n",
      "2024-10-01 16:33:47,157 - DataCache - INFO - Cache size: 69/1000\n",
      "INFO:DataCache:Cache size: 69/1000\n",
      "2024-10-01 16:33:47,297 - NUTSSampler - INFO - Current sampler call: 1700\n",
      "INFO:NUTSSampler:Current sampler call: 1700\n",
      "2024-10-01 16:33:47,340 - DataCache - INFO - Cache size: 70/1000\n",
      "INFO:DataCache:Cache size: 70/1000\n",
      "2024-10-01 16:33:47,911 - DataCache - INFO - Cache size: 71/1000\n",
      "INFO:DataCache:Cache size: 71/1000\n",
      "2024-10-01 16:33:48,263 - DataCache - INFO - Cache size: 72/1000\n",
      "INFO:DataCache:Cache size: 72/1000\n",
      "2024-10-01 16:33:48,575 - DataCache - INFO - Cache size: 73/1000\n",
      "INFO:DataCache:Cache size: 73/1000\n",
      "2024-10-01 16:33:48,852 - NUTSSampler - INFO - Current sampler call: 1800\n",
      "INFO:NUTSSampler:Current sampler call: 1800\n",
      "2024-10-01 16:33:49,220 - DataCache - INFO - Cache size: 74/1000\n",
      "INFO:DataCache:Cache size: 74/1000\n",
      "2024-10-01 16:33:49,778 - DataCache - INFO - Cache size: 75/1000\n",
      "INFO:DataCache:Cache size: 75/1000\n",
      "2024-10-01 16:33:50,062 - DataCache - INFO - Cache size: 76/1000\n",
      "INFO:DataCache:Cache size: 76/1000\n",
      "2024-10-01 16:33:50,390 - NUTSSampler - INFO - Current sampler call: 1900\n",
      "INFO:NUTSSampler:Current sampler call: 1900\n",
      "2024-10-01 16:33:50,446 - DataCache - INFO - Cache size: 77/1000\n",
      "INFO:DataCache:Cache size: 77/1000\n",
      "2024-10-01 16:33:50,608 - DataCache - INFO - Cache size: 78/1000\n",
      "INFO:DataCache:Cache size: 78/1000\n",
      "2024-10-01 16:33:50,934 - DataCache - INFO - Cache size: 79/1000\n",
      "INFO:DataCache:Cache size: 79/1000\n",
      "2024-10-01 16:33:51,360 - DataCache - INFO - Cache size: 80/1000\n",
      "INFO:DataCache:Cache size: 80/1000\n"
     ]
    },
    {
     "data": {
      "application/vnd.jupyter.widget-view+json": {
       "model_id": "162e2ec1a57f491797260b3d6e19e549",
       "version_major": 2,
       "version_minor": 0
      },
      "text/plain": [
       "  0%|          | 0/200 [00:00<?, ?it/s]"
      ]
     },
     "metadata": {},
     "output_type": "display_data"
    },
    {
     "data": {
      "application/vnd.jupyter.widget-view+json": {
       "model_id": "9d4477b602bf44dda3b57613f986cd2f",
       "version_major": 2,
       "version_minor": 0
      },
      "text/plain": [
       "  0%|          | 0/400 [00:00<?, ?it/s]"
      ]
     },
     "metadata": {},
     "output_type": "display_data"
    },
    {
     "data": {
      "application/vnd.jupyter.widget-view+json": {
       "model_id": "fa2662e1bbb4456e89b695db9ec47f6d",
       "version_major": 2,
       "version_minor": 0
      },
      "text/plain": [
       "  0%|          | 0/200 [00:00<?, ?it/s]"
      ]
     },
     "metadata": {},
     "output_type": "display_data"
    },
    {
     "data": {
      "application/vnd.jupyter.widget-view+json": {
       "model_id": "8231d3aaa127487c84b713fb689691ab",
       "version_major": 2,
       "version_minor": 0
      },
      "text/plain": [
       "  0%|          | 0/400 [00:00<?, ?it/s]"
      ]
     },
     "metadata": {},
     "output_type": "display_data"
    },
    {
     "data": {
      "application/vnd.jupyter.widget-view+json": {
       "model_id": "212a0eb110b94203808920f5f3d9138a",
       "version_major": 2,
       "version_minor": 0
      },
      "text/plain": [
       "  0%|          | 0/200 [00:00<?, ?it/s]"
      ]
     },
     "metadata": {},
     "output_type": "display_data"
    },
    {
     "data": {
      "application/vnd.jupyter.widget-view+json": {
       "model_id": "23005f11e8374b9b8a1230ff237c593b",
       "version_major": 2,
       "version_minor": 0
      },
      "text/plain": [
       "  0%|          | 0/400 [00:00<?, ?it/s]"
      ]
     },
     "metadata": {},
     "output_type": "display_data"
    },
    {
     "data": {
      "application/vnd.jupyter.widget-view+json": {
       "model_id": "6673e839ed0441c48a06e81de31273ac",
       "version_major": 2,
       "version_minor": 0
      },
      "text/plain": [
       "  0%|          | 0/200 [00:00<?, ?it/s]"
      ]
     },
     "metadata": {},
     "output_type": "display_data"
    },
    {
     "data": {
      "application/vnd.jupyter.widget-view+json": {
       "model_id": "87d3b085bf104e65a42a0d5b2731e874",
       "version_major": 2,
       "version_minor": 0
      },
      "text/plain": [
       "  0%|          | 0/400 [00:00<?, ?it/s]"
      ]
     },
     "metadata": {},
     "output_type": "display_data"
    },
    {
     "name": "stderr",
     "output_type": "stream",
     "text": [
      "WARNING:jax._src.xla_bridge:An NVIDIA GPU may be present on this machine, but a CUDA-enabled jaxlib is not installed. Falling back to cpu.\n",
      "2024-10-01 16:34:03,359 - NUTSSampler - INFO - Starting minimization after first emulator training to find bestfit and covmat.\n",
      "INFO:NUTSSampler:Starting minimization after first emulator training to find bestfit and covmat.\n",
      "  NIT   NF   F                       GTG\n",
      "    0    1  7.345604465836063E+00   9.94653071E+02\n",
      "tnc: fscale = 0.0105692\n",
      "    1    3  4.124582959140684E+00   1.60865582E+01\n",
      "    2    5  3.939904641548544E+00   1.37165801E-01\n",
      "tnc: fscale = 0.900028\n",
      "tnc: |fn-fn-1] = 0.00114416 -> convergence\n",
      "    3    7  3.938760481434273E+00   1.72899071E-01\n",
      "tnc: Converged (|f_n-f_(n-1)| ~= 0)\n",
      "2024-10-01 16:34:08,336 - NUTSSampler - INFO - Minimization after first emulator training finds:\n",
      "INFO:NUTSSampler:Minimization after first emulator training finds:\n",
      "2024-10-01 16:34:08,337 - NUTSSampler - INFO - Bestfit: \n",
      "INFO:NUTSSampler:Bestfit: \n",
      "2024-10-01 16:34:08,338 - NUTSSampler - INFO - x1: 0.07418484189076074 x2: 0.04177294030566642 x3: 0.13811261287589988\n",
      "INFO:NUTSSampler:x1: 0.07418484189076074 x2: 0.04177294030566642 x3: 0.13811261287589988\n",
      "2024-10-01 16:34:08,338 - NUTSSampler - INFO - Updating covmat with Fisher matrix\n",
      "INFO:NUTSSampler:Updating covmat with Fisher matrix\n",
      "2024-10-01 16:34:08,394 - NUTSSampler - WARNING - Bestfit parameter x1 is on the lower edge of the prior (0.000000). Shifting it slightly inside the prior.\n",
      "WARNING:NUTSSampler:Bestfit parameter x1 is on the lower edge of the prior (0.000000). Shifting it slightly inside the prior.\n",
      "2024-10-01 16:34:08,405 - NUTSSampler - WARNING - Bestfit parameter x2 is on the lower edge of the prior (0.000000). Shifting it slightly inside the prior.\n",
      "WARNING:NUTSSampler:Bestfit parameter x2 is on the lower edge of the prior (0.000000). Shifting it slightly inside the prior.\n",
      "2024-10-01 16:34:08,406 - NUTSSampler - INFO - Emulator trained - Start NUTS sampler now!\n",
      "INFO:NUTSSampler:Emulator trained - Start NUTS sampler now!\n",
      "2024-10-01 16:34:08,407 - NUTSSampler - INFO - Searching for a reasonable step sizes\n",
      "INFO:NUTSSampler:Searching for a reasonable step sizes\n",
      "2024-10-01 16:34:12,186 - NUTSSampler - INFO - Found reasonable step sizes: 2.000000\n",
      "INFO:NUTSSampler:Found reasonable step sizes: 2.000000\n",
      "2024-10-01 16:34:17,962 - NUTSSampler - INFO - Iteration 100: Mean ESS = 8.760758\n",
      "INFO:NUTSSampler:Iteration 100: Mean ESS = 8.760758\n",
      "2024-10-01 16:34:17,963 - NUTSSampler - INFO - Iteration 100: Mean ESS/sek = 5.020874\n",
      "INFO:NUTSSampler:Iteration 100: Mean ESS/sek = 5.020874\n",
      "2024-10-01 16:34:18,653 - NUTSSampler - INFO - Iteration 200: Mean ESS = 23.397425\n",
      "INFO:NUTSSampler:Iteration 200: Mean ESS = 23.397425\n",
      "2024-10-01 16:34:18,654 - NUTSSampler - INFO - Iteration 200: Mean ESS/sek = 9.604036\n",
      "INFO:NUTSSampler:Iteration 200: Mean ESS/sek = 9.604036\n",
      "2024-10-01 16:34:19,233 - NUTSSampler - INFO - Iteration 300: Mean ESS = 34.238371\n",
      "INFO:NUTSSampler:Iteration 300: Mean ESS = 34.238371\n",
      "2024-10-01 16:34:19,234 - NUTSSampler - INFO - Iteration 300: Mean ESS/sek = 11.351072\n",
      "INFO:NUTSSampler:Iteration 300: Mean ESS/sek = 11.351072\n",
      "2024-10-01 16:34:19,797 - NUTSSampler - INFO - Iteration 400: Mean ESS = 46.908667\n",
      "INFO:NUTSSampler:Iteration 400: Mean ESS = 46.908667\n",
      "2024-10-01 16:34:19,798 - NUTSSampler - INFO - Iteration 400: Mean ESS/sek = 13.102280\n",
      "INFO:NUTSSampler:Iteration 400: Mean ESS/sek = 13.102280\n",
      "2024-10-01 16:34:20,435 - NUTSSampler - INFO - Iteration 500: Mean ESS = 58.126525\n",
      "INFO:NUTSSampler:Iteration 500: Mean ESS = 58.126525\n",
      "2024-10-01 16:34:20,435 - NUTSSampler - INFO - Iteration 500: Mean ESS/sek = 13.782274\n",
      "INFO:NUTSSampler:Iteration 500: Mean ESS/sek = 13.782274\n",
      "2024-10-01 16:34:20,983 - NUTSSampler - INFO - Iteration 600: Mean ESS = 61.803835\n",
      "INFO:NUTSSampler:Iteration 600: Mean ESS = 61.803835\n",
      "2024-10-01 16:34:20,983 - NUTSSampler - INFO - Iteration 600: Mean ESS/sek = 12.969225\n",
      "INFO:NUTSSampler:Iteration 600: Mean ESS/sek = 12.969225\n",
      "2024-10-01 16:34:21,583 - NUTSSampler - INFO - Iteration 700: Mean ESS = 76.553996\n",
      "INFO:NUTSSampler:Iteration 700: Mean ESS = 76.553996\n",
      "2024-10-01 16:34:21,583 - NUTSSampler - INFO - Iteration 700: Mean ESS/sek = 14.268160\n",
      "INFO:NUTSSampler:Iteration 700: Mean ESS/sek = 14.268160\n",
      "2024-10-01 16:34:22,197 - NUTSSampler - INFO - Iteration 800: Mean ESS = 81.411966\n",
      "INFO:NUTSSampler:Iteration 800: Mean ESS = 81.411966\n",
      "2024-10-01 16:34:22,198 - NUTSSampler - INFO - Iteration 800: Mean ESS/sek = 13.613740\n",
      "INFO:NUTSSampler:Iteration 800: Mean ESS/sek = 13.613740\n",
      "2024-10-01 16:34:22,589 - NUTSSampler - WARNING - Sample 880/1201 is outside the prior. Sampling again.\n",
      "WARNING:NUTSSampler:Sample 880/1201 is outside the prior. Sampling again.\n",
      "2024-10-01 16:34:22,679 - NUTSSampler - INFO - Iteration 900: Mean ESS = 84.664991\n",
      "INFO:NUTSSampler:Iteration 900: Mean ESS = 84.664991\n",
      "2024-10-01 16:34:22,680 - NUTSSampler - INFO - Iteration 900: Mean ESS/sek = 13.101392\n",
      "INFO:NUTSSampler:Iteration 900: Mean ESS/sek = 13.101392\n",
      "2024-10-01 16:34:23,301 - NUTSSampler - INFO - Iteration 1000: Mean ESS = 95.681878\n",
      "INFO:NUTSSampler:Iteration 1000: Mean ESS = 95.681878\n",
      "2024-10-01 16:34:23,301 - NUTSSampler - INFO - Iteration 1000: Mean ESS/sek = 13.507906\n",
      "INFO:NUTSSampler:Iteration 1000: Mean ESS/sek = 13.507906\n",
      "2024-10-01 16:34:23,866 - NUTSSampler - INFO - Iteration 1100: Mean ESS = 105.905758\n",
      "INFO:NUTSSampler:Iteration 1100: Mean ESS = 105.905758\n",
      "2024-10-01 16:34:23,867 - NUTSSampler - INFO - Iteration 1100: Mean ESS/sek = 13.846043\n",
      "INFO:NUTSSampler:Iteration 1100: Mean ESS/sek = 13.846043\n"
     ]
    }
   ],
   "source": [
    "# Note the total run steps are   (nsteps * nwalkers * MPI_size)\n",
    "n_steps = 1000\n",
    "my_sampler.run_mcmc(n_steps)"
   ]
  },
  {
   "cell_type": "markdown",
   "metadata": {},
   "source": [
    "Finally, the chain can be obtained from the sampler object, and if installed,the corner package can be used to easily create a cornerplot."
   ]
  },
  {
   "cell_type": "code",
   "execution_count": 9,
   "metadata": {},
   "outputs": [
    {
     "data": {
      "image/png": "[encoded data removed]",
      "text/plain": [
       "<Figure size 760x760 with 9 Axes>"
      ]
     },
     "metadata": {},
     "output_type": "display_data"
    }
   ],
   "source": [
    "chain = my_sampler.chain\n",
    "\n",
    "if corner_available:\n",
    "    fig = corner.corner(np.array(chain))\n",
    "    plt.savefig('toy_notebook/corner_nuts.png')"
   ]
  },
  {
   "cell_type": "code",
   "execution_count": null,
   "metadata": {},
   "outputs": [],
   "source": []
  }
 ],
 "metadata": {
  "kernelspec": {
   "display_name": "OLE",
   "language": "python",
   "name": "python3"
  },
  "language_info": {
   "codemirror_mode": {
    "name": "ipython",
    "version": 3
   },
   "file_extension": ".py",
   "mimetype": "text/x-python",
   "name": "python",
   "nbconvert_exporter": "python",
   "pygments_lexer": "ipython3",
   "version": "3.11.9"
  }
 },
 "nbformat": 4,
 "nbformat_minor": 2
}
